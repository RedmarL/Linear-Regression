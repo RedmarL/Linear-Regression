{
 "cells": [
  {
   "cell_type": "markdown",
   "metadata": {},
   "source": [
    "# Lab 3\n",
    "### Introduction to Machine Learning, 2021-2022 period 4\n",
    "\n",
    "This assignment is to be done with a partner. Please only submit ONE .ipynb (not .py) file per pair!\n",
    "\n",
    "**Total points: 10**\n",
    "\n",
    "**Deadline: 2022-06-03 17:00**\n",
    "\n",
    "**Write your names and student ids here before submission:____**"
   ]
  },
  {
   "cell_type": "markdown",
   "metadata": {},
   "source": [
    "## Linear Regression\n",
    "With a linear regression problem, the goal is to predict the value of a certain variable $y$. In contrast to classification algorithms (such as $k$-Nearest Neighbours from the previous exercise), $y$ has a continuous value.\n",
    "The output value $y$ will be modelled as a linear combination of the (transformed) input values $\\mathbf{x}$. We expect these input values to influence $y$ in some way, just like with classification. The extent to which the variables influence our output is determined by an unknown target function $f$. We try to estimate that target function by using linear regression.\n",
    "\n",
    "Like any model, a linear regression model is a simplified version of reality. We may not have access to variables that do influence $f$. We may also include input variables in our model that have no effect on the real $f(\\mathbf{x})$.\n",
    "\n",
    "Moreover, the odds of $f$ being an actual linear combination of (a transformation of) our input variables is very small. But often, a linear estimate is the best we can do."
   ]
  },
  {
   "cell_type": "markdown",
   "metadata": {},
   "source": [
    "This assignment is designed to give insight into the behaviour of linear models through multiple simulation experiments in different environments. \n",
    "In such a simulation experiment the data won't have to come from a file, but we will generate it ourselves (probabilistically). This way we have all the control over the distribution of our data: we can see all the effects different properties of these distributions have on our in-sample error and our estimation of the out-of-sample error.\n",
    "\n",
    "We can compare the performance of the linear model under different circumstances (What happens with a more complicated target function $f$? What happens if there is more noise? What happens with less training data?)"
   ]
  },
  {
   "cell_type": "markdown",
   "metadata": {},
   "source": [
    "## Our Experiment\n",
    "### Data generation\n",
    "Every datapoint $(\\mathbf{x},y)$ will be sampled randomly. In our case $\\mathbf{x}$ is a vector with six numbers. As per usual in a linear model, $x_0 = 1$. The other elements of $\\mathbf{x}$ are distributed normally with expected value = 0 and variance = 1. (This is called a *standard normal distribution*.)\n",
    "\n",
    "Once we have our $\\mathbf{x}$, we generate our output label $y$ according to $y = f(\\mathbf{x}) + \\epsilon$, where  $\\epsilon$ is normally distributed with expected value = 0 and variance = $\\sigma^2$; we will experiment with various values for $\\sigma$.\n",
    "All the random numbers should be generated **independently** from one another. \n",
    "\n",
    "### Settings to experiment with:\n",
    "+ The target function $f$:\n",
    "    - $f_1(\\mathbf{x}) = 1 + x_1$\n",
    "    - $f_2(\\mathbf{x}) = 1 + x_1 + 0.3x_2 + 0.1x_3 + 0.03x_4 + 0.01x_5$\n",
    "+ The hypothesis class:\n",
    "    - $d=1$, which means our algorithm can only see $x_0$ and $x_1$. \n",
    "    - $d=5$, which means our algorithm can use the whole vector $\\mathbf{x}$. \n",
    "+ Noise:\n",
    "    - $\\sigma^2=0.2$\n",
    "    - $\\sigma^2=0.02$\n",
    "+ $N$, the amount of training data:\n",
    "    - $N=10$\n",
    "    - $N=50$"
   ]
  },
  {
   "cell_type": "markdown",
   "metadata": {},
   "source": [
    "## Experiment setup\n",
    "For every combination of values listed above, perform the simulation experiment as follows:\n",
    "- Repeat 100 times:\n",
    "    - Create a training dataset of size $N$\n",
    "    - Determine $\\mathbf{w}_{\\rm lin}$, the least-squares estimator (Use the formulas given in chapter 3 of the book)\n",
    "    - Determine the (quadratic) in-sample error\n",
    "    - Create a test dataset of size 100 using the same parameters\n",
    "    - Use the test data to estimate the out-of-sample error\n",
    "- Look at the means of $E_{\\rm in}$ and $E_{\\rm out}$ over the 100 repeats"
   ]
  },
  {
   "cell_type": "markdown",
   "metadata": {},
   "source": [
    "## Your Code\n",
    "Feel free to add new cells or structure your code however you like, just make sure the grader can understand it and will know how to run it with different parameters.\n",
    "\n",
    "It is recommended to use numpy or another library of your choice for functionalities like normal distribution generators and matrix multiplication. [Here is a handy guide (in notebook form) that deals with numpy arrays, matrices and number generation.](https://github.com/ageron/handson-ml/blob/master/tools_numpy.ipynb)"
   ]
  },
  {
   "cell_type": "markdown",
   "metadata": {},
   "source": [
    "**1.** Write code you can use to generate a dataset, where you can choose parameters like $N$, $\\sigma^2$ and $f_{1,2}$. Be sure to check if your normal-distribution-generator needs $\\sigma$ (standard deviation) or $\\sigma^2$ (variance) as input parameter. **(1.5pt)**\n",
    "\n",
    "*Hint:* Use the test_generate_data() function to check that your function is working as expected"
   ]
  },
  {
   "cell_type": "code",
   "execution_count": null,
   "metadata": {},
   "outputs": [],
   "source": [
    "import numpy as np\n",
    "import math\n",
    "\n",
    "def generate_data(f_number, N, sigma_squared):\n",
    "    \"\"\"\n",
    "    f_number is the target function (1 or 2)\n",
    "    N is the number of (training) datapoints\n",
    "    sigma_squared is the variance of the noise\n",
    "    \n",
    "    The return value should be a tuple (X, y) where X is a matrix whose rows are datapoints\n",
    "    and whose columns are the dimensions of the vector x for each datapoint, and y is a (column) vector\n",
    "    with the target values for each datapoint\n",
    "    \"\"\"\n",
    "    \n",
    "    # FILL THIS IN\n",
    "    \n",
    "    # Hint: remember that x0 needs to be 1 for all datapoints\n",
    "    \n",
    "    return (X, y)\n",
    "\n",
    "def test_generate_data():\n",
    "    # Check that without noise the label of a datapoint matches the target function\n",
    "    X, y = generate_data(1, 1, 0)\n",
    "    assert len(y) == 1\n",
    "    assert y[0] == X[0][0] + X[0][1]\n",
    "    \n",
    "test_generate_data()"
   ]
  },
  {
   "cell_type": "markdown",
   "metadata": {},
   "source": [
    "**2.** Write code that fits training data to a linear regression model, in other words, a function that creates $\\mathbf{w}_{\\rm lin}$. **(1.5pt)**"
   ]
  },
  {
   "cell_type": "code",
   "execution_count": null,
   "metadata": {},
   "outputs": [],
   "source": [
    "def fit(X, y, d):\n",
    "    \"\"\"\n",
    "    The inputs are the training data (X,y), and the d that defines the hypothesis class\n",
    "    \"\"\"\n",
    "    \n",
    "    # FILL THIS IN\n",
    "    \n",
    "    return w_lin"
   ]
  },
  {
   "cell_type": "markdown",
   "metadata": {},
   "source": [
    "**3.** Write code to evaluate a model: determine the $E_{\\rm in}$ and $E_{\\rm out}$ ($E_{\\rm out}$ will be estimated on the test dataset). \n",
    "\n",
    "Choose two sets of parameters, and for each of these, plot the target function $y = f(\\mathbf{x})$ and the learned regression function $y = \\mathbf{w}_{\\rm lin}^{\\rm T} \\mathbf{x}$ in one image (use different colours for the functions). To keep your plots 2-dimensional, plot just $x_1$ on the x-axis; this means your plot will only show the functions' behaviour for $x_2 = x_3 = x_4 = x_5 = 0$. It is recommended to pick $d=1$, $f=f_1$ for your experiments in this question, because then those inputs don't matter. Also plot the training and test data that was used (as dots or similar markers). Include a legend on the plots. \n",
    "\n",
    "How can you assess the performance of these hypotheses looking at the two plots? Does this agree with their computed $E_{\\rm in}$ and $E_{\\rm out}$? In which of the two experiments do you get better performance and why? **(1.5pt)**\n",
    "\n",
    "*Hint:* Use the test_compute_error() function to check that your function is working as expected"
   ]
  },
  {
   "cell_type": "code",
   "execution_count": null,
   "metadata": {},
   "outputs": [],
   "source": [
    "# Solution should include:\n",
    "#  - a function that computes the error(s);\n",
    "#  - plotting the functions and datasets from two experiments;\n",
    "#  - the discussion questions.\n",
    "\n",
    "def compute_error(w, X, y):\n",
    "    # X and y can be either training or test data\n",
    "    # w is the w_lin resulting from calling the fit function above\n",
    "    # The return value should be the average squared error (see Eqs. 3.3 and 3.4 in the book)\n",
    "    \n",
    "    # FILL THIS IN\n",
    "    \n",
    "    return avg_squared_error\n",
    "\n",
    "def test_compute_error():\n",
    "    # Use some mock data to check that the error computation is working properly\n",
    "    w = np.array([0.1, 1, 2]).T\n",
    "    X = np.array([np.array([1, 2, 3])])\n",
    "    y = np.array([0.5]).T\n",
    "    expected_E = 57.76\n",
    "    assert np.abs(expected_E - compute_error(w, X, y)) < 0.01\n",
    "    \n",
    "test_compute_error()"
   ]
  },
  {
   "cell_type": "code",
   "execution_count": null,
   "metadata": {},
   "outputs": [],
   "source": [
    "# FILL THIS IN\n",
    "\"\"\"\n",
    "You need to write a piece of code that:\n",
    "- chooses two sets of parameters from the \"settings to experiment with\" above\n",
    "- creates training and test datasets for each of those sets of parameters, and calls the fit function to get w_lin\n",
    "- calls the compute_error function to compute E_in and E_out\n",
    "- plots the target and hypothesis functions as required\n",
    "\"\"\""
   ]
  },
  {
   "cell_type": "markdown",
   "metadata": {},
   "source": [
    "*Your answer to the discussion question here*"
   ]
  },
  {
   "cell_type": "markdown",
   "metadata": {},
   "source": [
    "**4.** Write a function that, given all our parameters, performs the experiment 100 times and calculates the mean performance of the trained models. \n",
    "**(1.5pt)**"
   ]
  },
  {
   "cell_type": "code",
   "execution_count": null,
   "metadata": {},
   "outputs": [],
   "source": [
    "def experiment(f_number, d, N, sigma_squared, num_repeats):\n",
    "    \"\"\"\n",
    "    f_number is the target function (1 or 2)\n",
    "    d is the hypothesis class (1 or 5)\n",
    "    N is the number of training datapoints\n",
    "    sigma_squared is the variance of the noise\n",
    "    num_repeats is how many times you want to run the experiment\n",
    "    \n",
    "    The function should print out the average in- and out-of-sample error\n",
    "    \"\"\"\n",
    "    \n",
    "    # FILL THIS IN\n",
    "    \n",
    "    # Hint: you can use most of the work from question 3 to fill out this function"
   ]
  },
  {
   "cell_type": "markdown",
   "metadata": {},
   "source": [
    "\n",
    "## Results\n",
    "Enter your results in these tables (table 1 for $f_1$, table 2 for $f_2$).\n",
    "To keep the table neat, you should round the results down to 3 decimals each. **(1pt)**\n"
   ]
  },
  {
   "cell_type": "code",
   "execution_count": null,
   "metadata": {},
   "outputs": [],
   "source": [
    "for target_function in [1, 2]:\n",
    "    for d in [1, 5]:\n",
    "        for N in [10, 50]:\n",
    "            for sigma_squared in [.02, .2]:\n",
    "                experiment(target_function, d, N, sigma_squared, num_repeats=100)"
   ]
  },
  {
   "cell_type": "markdown",
   "metadata": {},
   "source": [
    "|$f_1$ |            || d=1      |           || d=5      |            |\n",
    "|------|------------||----------|-----------||----------|------------|\n",
    "| $n$  | $\\sigma^2$ || $E_{in}$ | $E_{out}$ || $E_{in}$ | $E_{out}$  |\n",
    "| 10   | .02        ||          |           ||          |            |\n",
    "| 10   | .20        ||          |           ||          |            |\n",
    "| 50   | .02        ||          |           ||          |            |\n",
    "| 50   | .20        ||          |           ||          |            |\n",
    "\n",
    "\n",
    "\n",
    "|$f_2$ |            || d=1      |           || d=5      |            |\n",
    "|------|------------||----------|-----------||----------|------------|\n",
    "| $n$  | $\\sigma^2$ || $E_{in}$ | $E_{out}$ || $E_{in}$ | $E_{out}$  |\n",
    "| 10   | .02        ||          |           ||          |            |\n",
    "| 10   | .20        ||          |           ||          |            |\n",
    "| 50   | .02        ||          |           ||          |            |\n",
    "| 50   | .20        ||          |           ||          |            |\n"
   ]
  },
  {
   "cell_type": "markdown",
   "metadata": {},
   "source": [
    "<sup>(press enter edit the table. ctrl+enter to show pretty table again. \n",
    " If you love making $\\LaTeX$ tables or hate this one, feel free to make your own one, as long as you stick to this parameter format)</sup>"
   ]
  },
  {
   "cell_type": "markdown",
   "metadata": {},
   "source": [
    "## Report\n",
    "Report on the experimental results. Discuss the following questions: **(3pt)**\n"
   ]
  },
  {
   "cell_type": "markdown",
   "metadata": {},
   "source": [
    "#### 1. Which hypothesis class produced better (estimated) out-of-sample errors? Under which circumstances?"
   ]
  },
  {
   "cell_type": "markdown",
   "metadata": {},
   "source": [
    "*Your answer here*"
   ]
  },
  {
   "cell_type": "markdown",
   "metadata": {},
   "source": [
    "#### 2. For given training data, to what extent are the in-sample errors of a hypothesis class informative for the out-of-sample errors?"
   ]
  },
  {
   "cell_type": "markdown",
   "metadata": {},
   "source": [
    "*Your answer here*"
   ]
  },
  {
   "cell_type": "markdown",
   "metadata": {},
   "source": [
    "#### 3. Can you explain your results using bias-variance analysis? How?"
   ]
  },
  {
   "cell_type": "markdown",
   "metadata": {},
   "source": [
    "*Your answer here*"
   ]
  }
 ],
 "metadata": {
  "kernelspec": {
   "display_name": "Python 3",
   "language": "python",
   "name": "python3"
  },
  "language_info": {
   "codemirror_mode": {
    "name": "ipython",
    "version": 3
   },
   "file_extension": ".py",
   "mimetype": "text/x-python",
   "name": "python",
   "nbconvert_exporter": "python",
   "pygments_lexer": "ipython3",
   "version": "3.10.4"
  }
 },
 "nbformat": 4,
 "nbformat_minor": 4
}
